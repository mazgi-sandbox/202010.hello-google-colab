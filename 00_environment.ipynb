{
  "nbformat": 4,
  "nbformat_minor": 0,
  "metadata": {
    "colab": {
      "name": "00-environment",
      "provenance": [],
      "collapsed_sections": [],
      "authorship_tag": "ABX9TyPD4lMXh0N62eDURF1HwKpS",
      "include_colab_link": true
    },
    "kernelspec": {
      "name": "python3",
      "display_name": "Python 3"
    }
  },
  "cells": [
    {
      "cell_type": "markdown",
      "metadata": {
        "id": "view-in-github",
        "colab_type": "text"
      },
      "source": [
        "<a href=\"https://colab.research.google.com/github/mazgi-sandbox/202010.hello-google-colab/blob/main/00_environment.ipynb\" target=\"_parent\"><img src=\"https://colab.research.google.com/assets/colab-badge.svg\" alt=\"Open In Colab\"/></a>"
      ]
    },
    {
      "cell_type": "code",
      "metadata": {
        "id": "k7tTrV-xQbfB",
        "outputId": "33584a91-47dd-4a74-9ccc-74c22b9773f4",
        "colab": {
          "base_uri": "https://localhost:8080/",
          "height": 34
        }
      },
      "source": [
        "!uname -a"
      ],
      "execution_count": 1,
      "outputs": [
        {
          "output_type": "stream",
          "text": [
            "Linux 658ed2cd4dc9 4.19.112+ #1 SMP Thu Jul 23 08:00:38 PDT 2020 x86_64 x86_64 x86_64 GNU/Linux\n"
          ],
          "name": "stdout"
        }
      ]
    },
    {
      "cell_type": "code",
      "metadata": {
        "id": "zcS1MeCER44o",
        "outputId": "6e9a5ceb-ccd4-4a36-8e62-9e1982f9adda",
        "colab": {
          "base_uri": "https://localhost:8080/",
          "height": 85
        }
      },
      "source": [
        "!cat /etc/lsb-release"
      ],
      "execution_count": 3,
      "outputs": [
        {
          "output_type": "stream",
          "text": [
            "DISTRIB_ID=Ubuntu\n",
            "DISTRIB_RELEASE=18.04\n",
            "DISTRIB_CODENAME=bionic\n",
            "DISTRIB_DESCRIPTION=\"Ubuntu 18.04.5 LTS\"\n"
          ],
          "name": "stdout"
        }
      ]
    },
    {
      "cell_type": "code",
      "metadata": {
        "id": "fBL9DzIsSAVw",
        "outputId": "d9edb9da-521d-4361-9f5d-f56dc7a4240f",
        "colab": {
          "base_uri": "https://localhost:8080/",
          "height": 272
        }
      },
      "source": [
        "!lsblk"
      ],
      "execution_count": 5,
      "outputs": [
        {
          "output_type": "stream",
          "text": [
            "NAME    MAJ:MIN RM   SIZE RO TYPE MOUNTPOINT\n",
            "loop0     7:0    0   110G  0 loop \n",
            "sda       8:0    0   120G  0 disk \n",
            "├─sda1    8:1      115.9G  0 part /etc/hosts\n",
            "├─sda2    8:2    0    16M  0 part \n",
            "├─sda3    8:3    0     2G  0 part \n",
            "├─sda4    8:4    0    16M  0 part \n",
            "├─sda5    8:5    0     2G  0 part \n",
            "├─sda6    8:6        512B  0 part \n",
            "├─sda7    8:7    0   512B  0 part \n",
            "├─sda8    8:8         16M  0 part \n",
            "├─sda9    8:9    0   512B  0 part \n",
            "├─sda10   8:10   0   512B  0 part \n",
            "├─sda11   8:11         8M  0 part \n",
            "└─sda12   8:12   0    32M  0 part \n"
          ],
          "name": "stdout"
        }
      ]
    },
    {
      "cell_type": "code",
      "metadata": {
        "id": "ZGjtgH59SFZC",
        "outputId": "8220f547-1707-4c91-b3e9-d9de8788485a",
        "colab": {
          "base_uri": "https://localhost:8080/",
          "height": 649
        }
      },
      "source": [
        "!mount"
      ],
      "execution_count": 6,
      "outputs": [
        {
          "output_type": "stream",
          "text": [
            "overlay on / type overlay (rw,relatime,lowerdir=/var/lib/docker/overlay2/l/N7GXZUZODLOXZCQKBGLOEVYZV3:/var/lib/docker/overlay2/l/BW7KECCLO3EYRVUCGXOGVHBV7V:/var/lib/docker/overlay2/l/BCYSRQCHARAACWK4W7JZLBBGDS:/var/lib/docker/overlay2/l/EUAGBMQVZUEBJTMKPITT5WSSXW:/var/lib/docker/overlay2/l/BNQYL5DMLE5FSDNP3G5OBTV3EW:/var/lib/docker/overlay2/l/MPHLHNCZSUHKQZVZTL6KC2ZFI4:/var/lib/docker/overlay2/l/ZXLFSGPHA4474NJ3RCQPIUQAGI:/var/lib/docker/overlay2/l/QOVLDF45GX7TXSJCU32SLVAPBG:/var/lib/docker/overlay2/l/XDT5TCGRF6XSMGWUCLYRQWEGCJ:/var/lib/docker/overlay2/l/YERPLHRYS2OMR7KMTWMNV77F6F:/var/lib/docker/overlay2/l/AZC5FQ4HABWRPRPZOHH6SGIG2B:/var/lib/docker/overlay2/l/UZXBK7BLWUZXNWWFW2YFM3II5U:/var/lib/docker/overlay2/l/6CIHXZVCDJH2B36YOCNFMJOAEX:/var/lib/docker/overlay2/l/4TZFCGWYDL4RGIZOCEYOMHONYZ:/var/lib/docker/overlay2/l/XQI745PDNXP4NJPSNPRIDISIGD:/var/lib/docker/overlay2/l/4MGO3SZVL46GN5TROO6BFFZJ5A:/var/lib/docker/overlay2/l/ITZLVAJWVZQ2WLQP7R5GVFKCWT:/var/lib/docker/overlay2/l/Z5S26HMA64MIWK3VMGRABSJCMH:/var/lib/docker/overlay2/l/AHNF2KKBRNNFPPNXUHP3FQ5HKU:/var/lib/docker/overlay2/l/YHK2WNZ2RWISP5UEJO6DSEXHMU:/var/lib/docker/overlay2/l/VSPEWZ733TRYMT5GHR2UNW6RPX:/var/lib/docker/overlay2/l/AZQUSSZ3UERCXIAVYDZEE6ABZL:/var/lib/docker/overlay2/l/JJ6LUM4AZKUQZTSNMPY4RYWAPS:/var/lib/docker/overlay2/l/C6CVN6GSSDT3J6G5WMQEQJ5IST:/var/lib/docker/overlay2/l/GG7SRT4635YNGTUGOUEH5ZU4RC:/var/lib/docker/overlay2/l/GG64VK2B7U7TV7CPOPAY4DXRVJ:/var/lib/docker/overlay2/l/VQSPKVUGIWFNAO5RMGXYRMS2RH:/var/lib/docker/overlay2/l/NHNR36KNJCGNGRMOVS2DOKRHF6:/var/lib/docker/overlay2/l/UL357NKQ6ZFWRU4LU5HDR5RFZQ:/var/lib/docker/overlay2/l/GWYQJNPWBBZBYGRQ6TBIRAMJSD:/var/lib/docker/overlay2/l/IP6P6G7XIUZKMDLP6V4LLSWNQG:/var/lib/docker/overlay2/l/56L3CLECSPRLIHUQ3MNXMJVKLN:/var/lib/docker/overlay2/l/YI3OPQ355VOSIKYISJH2Z3CQ4Y:/var/lib/docker/overlay2/l/ARBZYGUWD245XDA57ONSRNSEXM:/var/lib/docker/overlay2/l/FN7FGUCC3B4FTD53UGK536DP7M:/var/lib/docker/overlay2/l/F6AQY7OGSWEM73RQXEZX7UQJX6:/var/lib/docker/overlay2/l/U2G4QY7RHLB4Q6PNN2RDRJVUX2:/var/lib/docker/overlay2/l/ACOZLVCDCSIXH3F4PXAHBTSJ3V:/var/lib/docker/overlay2/l/QHJMM6A6LQI6FKTXDRG3K7GGIM:/var/lib/docker/overlay2/l/COWJSE6CFRIZVM7TYG2SFHXKFT:/var/lib/docker/overlay2/l/7NOAPZKKVF2NLOWK52YZYCEFQK:/var/lib/docker/overlay2/l/NVJXRV6ABSOYXIBCN7AQBR7YU6,upperdir=/var/lib/docker/overlay2/3723a157a1f5f8ab97be4009ac41292e0568579c600c0593e7db97a1d3c20634/diff,workdir=/var/lib/docker/overlay2/3723a157a1f5f8ab97be4009ac41292e0568579c600c0593e7db97a1d3c20634/work)\n",
            "proc on /proc type proc (rw,nosuid,nodev,noexec,relatime)\n",
            "tmpfs on /dev type tmpfs (rw,nosuid,size=65536k,mode=755)\n",
            "devpts on /dev/pts type devpts (rw,nosuid,noexec,relatime,gid=5,mode=620,ptmxmode=666)\n",
            "sysfs on /sys type sysfs (ro,nosuid,nodev,noexec,relatime)\n",
            "tmpfs on /sys/fs/cgroup type tmpfs (ro,nosuid,nodev,noexec,relatime,mode=755)\n",
            "cgroup on /sys/fs/cgroup/systemd type cgroup (ro,nosuid,nodev,noexec,relatime,xattr,name=systemd)\n",
            "cgroup on /sys/fs/cgroup/cpu,cpuacct type cgroup (ro,nosuid,nodev,noexec,relatime,cpu,cpuacct)\n",
            "cgroup on /sys/fs/cgroup/freezer type cgroup (ro,nosuid,nodev,noexec,relatime,freezer)\n",
            "cgroup on /sys/fs/cgroup/net_cls,net_prio type cgroup (ro,nosuid,nodev,noexec,relatime,net_cls,net_prio)\n",
            "cgroup on /sys/fs/cgroup/memory type cgroup (ro,nosuid,nodev,noexec,relatime,memory)\n",
            "cgroup on /sys/fs/cgroup/devices type cgroup (ro,nosuid,nodev,noexec,relatime,devices)\n",
            "cgroup on /sys/fs/cgroup/perf_event type cgroup (ro,nosuid,nodev,noexec,relatime,perf_event)\n",
            "cgroup on /sys/fs/cgroup/pids type cgroup (ro,nosuid,nodev,noexec,relatime,pids)\n",
            "cgroup on /sys/fs/cgroup/blkio type cgroup (ro,nosuid,nodev,noexec,relatime,blkio)\n",
            "cgroup on /sys/fs/cgroup/hugetlb type cgroup (ro,nosuid,nodev,noexec,relatime,hugetlb)\n",
            "cgroup on /sys/fs/cgroup/rdma type cgroup (ro,nosuid,nodev,noexec,relatime,rdma)\n",
            "cgroup on /sys/fs/cgroup/cpuset type cgroup (ro,nosuid,nodev,noexec,relatime,cpuset)\n",
            "mqueue on /dev/mqueue type mqueue (rw,nosuid,nodev,noexec,relatime)\n",
            "shm on /dev/shm type tmpfs (rw,nosuid,nodev,noexec,relatime,size=6160384k)\n",
            "tmpfs on /var/colab type tmpfs (rw,nosuid,nodev,noexec)\n",
            "/dev/sda1 on /etc/resolv.conf type ext4 (rw,nosuid,nodev,relatime,commit=30)\n",
            "/dev/sda1 on /etc/hostname type ext4 (rw,nosuid,nodev,relatime,commit=30)\n",
            "/dev/sda1 on /etc/hosts type ext4 (rw,nosuid,nodev,relatime,commit=30)\n",
            "tmpfs on /var/colab/shared type tmpfs (rw,nosuid,nodev,noexec)\n",
            "proc on /proc/bus type proc (ro,relatime)\n",
            "proc on /proc/fs type proc (ro,relatime)\n",
            "proc on /proc/irq type proc (ro,relatime)\n",
            "proc on /proc/sys type proc (ro,relatime)\n",
            "proc on /proc/sysrq-trigger type proc (ro,relatime)\n",
            "tmpfs on /proc/acpi type tmpfs (ro,relatime)\n",
            "tmpfs on /proc/kcore type tmpfs (rw,nosuid,size=65536k,mode=755)\n",
            "tmpfs on /proc/keys type tmpfs (rw,nosuid,size=65536k,mode=755)\n",
            "tmpfs on /proc/timer_list type tmpfs (rw,nosuid,size=65536k,mode=755)\n",
            "tmpfs on /proc/scsi type tmpfs (ro,relatime)\n",
            "tmpfs on /sys/firmware type tmpfs (ro,relatime)\n"
          ],
          "name": "stdout"
        }
      ]
    },
    {
      "cell_type": "code",
      "metadata": {
        "id": "-_dBFVYGSJ06",
        "outputId": "6584ccfb-4dd8-4e51-cd32-d92bd27285c5",
        "colab": {
          "base_uri": "https://localhost:8080/",
          "height": 187
        }
      },
      "source": [
        "!df -k"
      ],
      "execution_count": 10,
      "outputs": [
        {
          "output_type": "stream",
          "text": [
            "Filesystem     1K-blocks     Used Available Use% Mounted on\n",
            "overlay        113008892 31541028  75684312  30% /\n",
            "tmpfs              65536        0     65536   0% /dev\n",
            "tmpfs            6666776        0   6666776   0% /sys/fs/cgroup\n",
            "shm              6160384        0   6160384   0% /dev/shm\n",
            "tmpfs            6666776       12   6666764   1% /var/colab\n",
            "/dev/sda1      119512108 33298316  86197408  28% /etc/hosts\n",
            "tmpfs            6666776        0   6666776   0% /proc/acpi\n",
            "tmpfs            6666776        0   6666776   0% /proc/scsi\n",
            "tmpfs            6666776        0   6666776   0% /sys/firmware\n"
          ],
          "name": "stdout"
        }
      ]
    },
    {
      "cell_type": "code",
      "metadata": {
        "id": "P2eKSf0ISUM0",
        "outputId": "7656206e-527e-4536-e8e7-1ad141df6692",
        "colab": {
          "base_uri": "https://localhost:8080/",
          "height": 989
        }
      },
      "source": [
        "!nproc\n",
        "!echo ----\n",
        "!cat /proc/cpuinfo"
      ],
      "execution_count": 16,
      "outputs": [
        {
          "output_type": "stream",
          "text": [
            "2\n",
            "----\n",
            "processor\t: 0\n",
            "vendor_id\t: GenuineIntel\n",
            "cpu family\t: 6\n",
            "model\t\t: 63\n",
            "model name\t: Intel(R) Xeon(R) CPU @ 2.30GHz\n",
            "stepping\t: 0\n",
            "microcode\t: 0x1\n",
            "cpu MHz\t\t: 2300.000\n",
            "cache size\t: 46080 KB\n",
            "physical id\t: 0\n",
            "siblings\t: 2\n",
            "core id\t\t: 0\n",
            "cpu cores\t: 1\n",
            "apicid\t\t: 0\n",
            "initial apicid\t: 0\n",
            "fpu\t\t: yes\n",
            "fpu_exception\t: yes\n",
            "cpuid level\t: 13\n",
            "wp\t\t: yes\n",
            "flags\t\t: fpu vme de pse tsc msr pae mce cx8 apic sep mtrr pge mca cmov pat pse36 clflush mmx fxsr sse sse2 ss ht syscall nx pdpe1gb rdtscp lm constant_tsc rep_good nopl xtopology nonstop_tsc cpuid tsc_known_freq pni pclmulqdq ssse3 fma cx16 pcid sse4_1 sse4_2 x2apic movbe popcnt aes xsave avx f16c rdrand hypervisor lahf_lm abm invpcid_single ssbd ibrs ibpb stibp fsgsbase tsc_adjust bmi1 avx2 smep bmi2 erms invpcid xsaveopt arat md_clear arch_capabilities\n",
            "bugs\t\t: cpu_meltdown spectre_v1 spectre_v2 spec_store_bypass l1tf mds swapgs\n",
            "bogomips\t: 4600.00\n",
            "clflush size\t: 64\n",
            "cache_alignment\t: 64\n",
            "address sizes\t: 46 bits physical, 48 bits virtual\n",
            "power management:\n",
            "\n",
            "processor\t: 1\n",
            "vendor_id\t: GenuineIntel\n",
            "cpu family\t: 6\n",
            "model\t\t: 63\n",
            "model name\t: Intel(R) Xeon(R) CPU @ 2.30GHz\n",
            "stepping\t: 0\n",
            "microcode\t: 0x1\n",
            "cpu MHz\t\t: 2300.000\n",
            "cache size\t: 46080 KB\n",
            "physical id\t: 0\n",
            "siblings\t: 2\n",
            "core id\t\t: 0\n",
            "cpu cores\t: 1\n",
            "apicid\t\t: 1\n",
            "initial apicid\t: 1\n",
            "fpu\t\t: yes\n",
            "fpu_exception\t: yes\n",
            "cpuid level\t: 13\n",
            "wp\t\t: yes\n",
            "flags\t\t: fpu vme de pse tsc msr pae mce cx8 apic sep mtrr pge mca cmov pat pse36 clflush mmx fxsr sse sse2 ss ht syscall nx pdpe1gb rdtscp lm constant_tsc rep_good nopl xtopology nonstop_tsc cpuid tsc_known_freq pni pclmulqdq ssse3 fma cx16 pcid sse4_1 sse4_2 x2apic movbe popcnt aes xsave avx f16c rdrand hypervisor lahf_lm abm invpcid_single ssbd ibrs ibpb stibp fsgsbase tsc_adjust bmi1 avx2 smep bmi2 erms invpcid xsaveopt arat md_clear arch_capabilities\n",
            "bugs\t\t: cpu_meltdown spectre_v1 spectre_v2 spec_store_bypass l1tf mds swapgs\n",
            "bogomips\t: 4600.00\n",
            "clflush size\t: 64\n",
            "cache_alignment\t: 64\n",
            "address sizes\t: 46 bits physical, 48 bits virtual\n",
            "power management:\n",
            "\n"
          ],
          "name": "stdout"
        }
      ]
    },
    {
      "cell_type": "code",
      "metadata": {
        "id": "KcvZqR-6Swoo",
        "outputId": "1b372bca-955f-4eaf-f848-2e589559dfec",
        "colab": {
          "base_uri": "https://localhost:8080/",
          "height": 884
        }
      },
      "source": [
        "!free -m\n",
        "!echo ----\n",
        "!cat /proc/meminfo"
      ],
      "execution_count": 15,
      "outputs": [
        {
          "output_type": "stream",
          "text": [
            "              total        used        free      shared  buff/cache   available\n",
            "Mem:          13021         505       10618           0        1897       12257\n",
            "Swap:             0           0           0\n",
            "----\n",
            "MemTotal:       13333552 kB\n",
            "MemFree:        10873248 kB\n",
            "MemAvailable:   12551056 kB\n",
            "Buffers:           71500 kB\n",
            "Cached:          1749504 kB\n",
            "SwapCached:            0 kB\n",
            "Active:           641896 kB\n",
            "Inactive:        1569752 kB\n",
            "Active(anon):     353492 kB\n",
            "Inactive(anon):      324 kB\n",
            "Active(file):     288404 kB\n",
            "Inactive(file):  1569428 kB\n",
            "Unevictable:           0 kB\n",
            "Mlocked:               0 kB\n",
            "SwapTotal:             0 kB\n",
            "SwapFree:              0 kB\n",
            "Dirty:               756 kB\n",
            "Writeback:             0 kB\n",
            "AnonPages:        390584 kB\n",
            "Mapped:           180064 kB\n",
            "Shmem:               928 kB\n",
            "Slab:             158228 kB\n",
            "SReclaimable:     121640 kB\n",
            "SUnreclaim:        36588 kB\n",
            "KernelStack:        3488 kB\n",
            "PageTables:         4756 kB\n",
            "NFS_Unstable:          0 kB\n",
            "Bounce:                0 kB\n",
            "WritebackTmp:          0 kB\n",
            "CommitLimit:     6666776 kB\n",
            "Committed_AS:    2446008 kB\n",
            "VmallocTotal:   34359738367 kB\n",
            "VmallocUsed:           0 kB\n",
            "VmallocChunk:          0 kB\n",
            "Percpu:              928 kB\n",
            "AnonHugePages:         0 kB\n",
            "ShmemHugePages:        0 kB\n",
            "ShmemPmdMapped:        0 kB\n",
            "HugePages_Total:       0\n",
            "HugePages_Free:        0\n",
            "HugePages_Rsvd:        0\n",
            "HugePages_Surp:        0\n",
            "Hugepagesize:       2048 kB\n",
            "Hugetlb:               0 kB\n",
            "DirectMap4k:       83132 kB\n",
            "DirectMap2M:     6207488 kB\n",
            "DirectMap1G:     9437184 kB\n"
          ],
          "name": "stdout"
        }
      ]
    },
    {
      "cell_type": "code",
      "metadata": {
        "id": "ZZz0apmCTCv5",
        "outputId": "6128ce28-2cc5-4a83-fd2e-f6789836ca0c",
        "colab": {
          "base_uri": "https://localhost:8080/",
          "height": 204
        }
      },
      "source": [
        "!sudo -ll"
      ],
      "execution_count": 17,
      "outputs": [
        {
          "output_type": "stream",
          "text": [
            "Matching Defaults entries for root on 658ed2cd4dc9:\n",
            "    env_reset, mail_badpass,\n",
            "    secure_path=/usr/local/sbin\\:/usr/local/bin\\:/usr/sbin\\:/usr/bin\\:/sbin\\:/bin\\:/snap/bin\n",
            "\n",
            "User root may run the following commands on 658ed2cd4dc9:\n",
            "\n",
            "Sudoers entry:\n",
            "    RunAsUsers: ALL\n",
            "    RunAsGroups: ALL\n",
            "    Commands:\n",
            "\tALL\n"
          ],
          "name": "stdout"
        }
      ]
    }
  ]
}